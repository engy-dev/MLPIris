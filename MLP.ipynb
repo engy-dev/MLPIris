{
  "metadata": {
    "kernelspec": {
      "name": "python",
      "display_name": "Python (Pyodide)",
      "language": "python"
    },
    "language_info": {
      "codemirror_mode": {
        "name": "python",
        "version": 3
      },
      "file_extension": ".py",
      "mimetype": "text/x-python",
      "name": "python",
      "nbconvert_exporter": "python",
      "pygments_lexer": "ipython3",
      "version": "3.8"
    }
  },
  "nbformat_minor": 4,
  "nbformat": 4,
  "cells": [
    {
      "cell_type": "code",
      "source": "import piplite\nawait piplite.install('seaborn')",
      "metadata": {
        "trusted": true
      },
      "outputs": [],
      "execution_count": 1
    },
    {
      "cell_type": "code",
      "source": "import numpy as np\nimport pandas as pd\nimport matplotlib.pyplot as plt\nimport seaborn as sns\nfrom sklearn.datasets import load_iris\nfrom sklearn.model_selection import train_test_split\nfrom sklearn.preprocessing import StandardScaler\nfrom sklearn.neural_network import MLPClassifier\nfrom sklearn.metrics import classification_report, confusion_matrix\n\n\niris = load_iris()\nX = iris.data  # (sepal length, sepal width, etc.)\ny = iris.target  # (species)\n\n# Convert to DataFrame for better visualization\niris_df = pd.DataFrame(data=X, columns=iris.feature_names)\niris_df['species'] = y\nprint(iris_df.head())\n\n# Split the dataset into training and testing sets (80% train, 20% test)\nX_train, X_test, y_train, y_test = train_test_split(X, y, test_size=0.2, random_state=42)\n\n# Standardize features\nscaler = StandardScaler()\nX_train = scaler.fit_transform(X_train)\nX_test = scaler.transform(X_test)\n\nmlp = MLPClassifier(hidden_layer_sizes=(10, 10), max_iter=1000, random_state=42)\n\n# Train the model on the training data\nmlp.fit(X_train, y_train)\ny_pred = mlp.predict(X_test)\n\n# Print confusion matrix and classification report\nprint(\"Confusion Matrix:\")\nprint(confusion_matrix(y_test, y_pred))\n\nprint(\"\\nClassification Report:\")\nprint(classification_report(y_test, y_pred))\n\n# Plot confusion matrix\nplt.figure(figsize=(8, 6))\nsns.heatmap(confusion_matrix(y_test, y_pred), annot=True, fmt='d', cmap='Blues',\n            xticklabels=iris.target_names,\n            yticklabels=iris.target_names)\nplt.ylabel('Actual')\nplt.xlabel('Predicted')\nplt.title('Confusion Matrix')\nplt.show()\n\n# Save predictions\npredictions_df = pd.DataFrame({\n    'Actual': y_test,\n    'Predicted': y_pred,\n    'Correct': y_test == y_pred\n})\n\npredictions_df.to_csv('iris_predictions.csv', index=False)\nprint(\"Predictions saved to 'iris_predictions.csv'\")",
      "metadata": {
        "trusted": true
      },
      "outputs": [],
      "execution_count": null
    }
  ]
}